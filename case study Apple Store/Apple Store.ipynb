{
 "cells": [
  {
   "cell_type": "code",
   "execution_count": 2,
   "metadata": {},
   "outputs": [],
   "source": [
    "from pyspark import SparkContext\n",
    "from pyspark.sql import *"
   ]
  },
  {
   "cell_type": "code",
   "execution_count": 3,
   "metadata": {},
   "outputs": [],
   "source": [
    "sc =SparkContext() "
   ]
  },
  {
   "cell_type": "code",
   "execution_count": 6,
   "metadata": {},
   "outputs": [],
   "source": [
    "sqlContext = SQLContext(sc)"
   ]
  },
  {
   "cell_type": "code",
   "execution_count": 14,
   "metadata": {},
   "outputs": [],
   "source": [
    "data = sqlContext.read.format(\"csv\").option(\"header\",\"true\").load(\"AppleStore.csv\")"
   ]
  },
  {
   "cell_type": "code",
   "execution_count": 15,
   "metadata": {},
   "outputs": [
    {
     "name": "stdout",
     "output_type": "stream",
     "text": [
      "+---+---------+--------------------+----------+--------+-----+----------------+----------------+-----------+---------------+-------+-----------+-----------------+---------------+---------------+--------+-------+\n",
      "|_c0|       id|          track_name|size_bytes|currency|price|rating_count_tot|rating_count_ver|user_rating|user_rating_ver|    ver|cont_rating|      prime_genre|sup_devices.num|ipadSc_urls.num|lang.num|vpp_lic|\n",
      "+---+---------+--------------------+----------+--------+-----+----------------+----------------+-----------+---------------+-------+-----------+-----------------+---------------+---------------+--------+-------+\n",
      "|  1|281656475|     PAC-MAN Premium| 100788224|     USD| 3.99|           21292|              26|          4|            4.5|  6.3.5|         4+|            Games|             38|              5|      10|      1|\n",
      "|  2|281796108|Evernote - stay o...| 158578688|     USD|    0|          161065|              26|          4|            3.5|  8.2.2|         4+|     Productivity|             37|              5|      23|      1|\n",
      "|  3|281940292|WeatherBug - Loca...| 100524032|     USD|    0|          188583|            2822|        3.5|            4.5|  5.0.0|         4+|          Weather|             37|              5|       3|      1|\n",
      "|  4|282614216|eBay: Best App to...| 128512000|     USD|    0|          262241|             649|          4|            4.5| 5.10.0|        12+|         Shopping|             37|              5|       9|      1|\n",
      "|  5|282935706|               Bible|  92774400|     USD|    0|          985920|            5320|        4.5|              5|  7.5.1|         4+|        Reference|             37|              5|      45|      1|\n",
      "|  6|283619399|    Shanghai Mahjong|  10485713|     USD| 0.99|            8253|            5516|          4|              4|    1.8|         4+|            Games|             47|              5|       1|      1|\n",
      "|  7|283646709|PayPal - Send and...| 227795968|     USD|    0|          119487|             879|          4|            4.5| 6.12.0|         4+|          Finance|             37|              0|      19|      1|\n",
      "|  8|284035177|Pandora - Music &...| 130242560|     USD|    0|         1126879|            3594|          4|            4.5|  8.4.1|        12+|            Music|             37|              4|       1|      1|\n",
      "|  9|284666222|PCalc - The Best ...|  49250304|     USD| 9.99|            1117|               4|        4.5|              5|  3.6.6|         4+|        Utilities|             37|              5|       1|      1|\n",
      "| 10|284736660|         Ms. PAC-MAN|  70023168|     USD| 3.99|            7885|              40|          4|              4|  4.0.4|         4+|            Games|             38|              0|      10|      1|\n",
      "| 11|284791396|Solitaire by Mobi...|  49618944|     USD| 4.99|           76720|            4017|        4.5|            4.5| 4.10.1|         4+|            Games|             38|              4|      11|      1|\n",
      "| 12|284815117|    SCRABBLE Premium| 227547136|     USD| 7.99|          105776|             166|        3.5|            2.5| 5.19.0|         4+|            Games|             37|              0|       6|      1|\n",
      "| 13|284815942|Google – Search m...| 179979264|     USD|    0|          479440|             203|        3.5|              4|   27.0|        17+|        Utilities|             37|              4|      33|      1|\n",
      "| 14|284847138|Bank of America -...| 160925696|     USD|    0|          119773|            2336|        3.5|            4.5|  7.3.8|         4+|          Finance|             37|              0|       2|      1|\n",
      "| 15|284862767|            FreeCell|  55153664|     USD| 4.99|            6340|             668|        4.5|            4.5|  4.0.3|         4+|            Games|             38|              5|       2|      1|\n",
      "| 16|284876795|TripAdvisor Hotel...| 207907840|     USD|    0|           56194|              87|          4|            3.5|   21.1|         4+|           Travel|             37|              1|      26|      1|\n",
      "| 17|284882215|            Facebook| 389879808|     USD|    0|         2974676|             212|        3.5|            3.5|   95.0|         4+|Social Networking|             37|              1|      29|      1|\n",
      "| 18|284910350|Yelp - Nearby Res...| 167407616|     USD|    0|          223885|            3726|          4|            4.5|11.15.0|        12+|           Travel|             37|              5|      18|      1|\n",
      "| 20|284993459|Shazam - Discover...| 147093504|     USD|    0|          402925|             136|          4|            4.5| 11.0.3|        12+|            Music|             37|              3|      16|      1|\n",
      "| 21|285005463|Crash Bandicoot N...|  10735026|     USD| 2.99|           31456|            4178|          4|            3.5|  1.0.0|         4+|            Games|             47|              0|       1|      1|\n",
      "+---+---------+--------------------+----------+--------+-----+----------------+----------------+-----------+---------------+-------+-----------+-----------------+---------------+---------------+--------+-------+\n",
      "only showing top 20 rows\n",
      "\n"
     ]
    }
   ],
   "source": [
    "data.show()"
   ]
  },
  {
   "cell_type": "code",
   "execution_count": 23,
   "metadata": {},
   "outputs": [
    {
     "name": "stdout",
     "output_type": "stream",
     "text": [
      "+---------+\n",
      "|       GB|\n",
      "+---------+\n",
      "|100788224|\n",
      "|158578688|\n",
      "|100524032|\n",
      "|128512000|\n",
      "| 92774400|\n",
      "| 10485713|\n",
      "|227795968|\n",
      "|130242560|\n",
      "| 49250304|\n",
      "| 70023168|\n",
      "| 49618944|\n",
      "|227547136|\n",
      "|179979264|\n",
      "|160925696|\n",
      "| 55153664|\n",
      "|207907840|\n",
      "|389879808|\n",
      "|167407616|\n",
      "|147093504|\n",
      "| 10735026|\n",
      "+---------+\n",
      "only showing top 20 rows\n",
      "\n"
     ]
    }
   ],
   "source": [
    "data.select(data['size_bytes'].alias(\"GB\")).show()"
   ]
  },
  {
   "cell_type": "code",
   "execution_count": 25,
   "metadata": {},
   "outputs": [],
   "source": [
    "data.createOrReplaceTempView(\"applestore\")"
   ]
  },
  {
   "cell_type": "code",
   "execution_count": 39,
   "metadata": {},
   "outputs": [
    {
     "name": "stdout",
     "output_type": "stream",
     "text": [
      "+--------------------+----------------+-----------+\n",
      "|          track_name|rating_count_tot|user_rating|\n",
      "+--------------------+----------------+-----------+\n",
      "|         Rogue Ninja|              99|          5|\n",
      "|Word Swag - Cool ...|            9731|          5|\n",
      "|                ASOS|            9725|          5|\n",
      "|      Papers, Please|             970|          5|\n",
      "|                Pitu|             968|          5|\n",
      "|Butt Sworkit - Fr...|             960|          5|\n",
      "|          \"\"\"HOOK\"\"\"|             959|          5|\n",
      "|Sniper Shooter Pr...|             945|          5|\n",
      "|Evolution Calcula...|            9269|          5|\n",
      "|Tank.IO War - Fre...|            9259|          5|\n",
      "+--------------------+----------------+-----------+\n",
      "only showing top 10 rows\n",
      "\n"
     ]
    }
   ],
   "source": [
    "#top 10 apps based on rating count and user rating\n",
    "sqlContext.sql('select track_name,rating_count_tot,user_rating from applestore order by user_rating desc,rating_count_tot desc').show(10)"
   ]
  },
  {
   "cell_type": "code",
   "execution_count": 79,
   "metadata": {},
   "outputs": [
    {
     "name": "stdout",
     "output_type": "stream",
     "text": [
      "+-------------------------+\n",
      "|avg_difference_screenshot|\n",
      "+-------------------------+\n",
      "|       1.1310680248890757|\n",
      "+-------------------------+\n",
      "\n"
     ]
    }
   ],
   "source": [
    "#The difference in the average number of screenshots displayed of highest and lowest rating apps.\n",
    "sqlContext.sql('with cte as( \\\n",
    "    select user_rating,avg(`ipadSc_urls.num`) as avg_sc\\\n",
    "                  from applestore \\\n",
    "                  group by user_rating \\\n",
    "                  order by user_rating)\\\n",
    "                  \\\n",
    "    select (b.sc2 -a.sc1) as avg_difference_screenshot from (\\\n",
    "               (select avg_sc as sc1 from cte where user_rating =(select min(user_rating) from cte)) a\\\n",
    "               full join   \\\n",
    "    (select avg_sc as sc2 from cte where user_rating =(select max(user_rating) from cte)) b on a.sc1!=b.sc2)').show()"
   ]
  },
  {
   "cell_type": "code",
   "execution_count": 56,
   "metadata": {},
   "outputs": [
    {
     "name": "stdout",
     "output_type": "stream",
     "text": [
      "+---------------+\n",
      "|ipadSc_urls.num|\n",
      "+---------------+\n",
      "|              5|\n",
      "|              5|\n",
      "|              5|\n",
      "|              5|\n",
      "|              5|\n",
      "|              5|\n",
      "|              0|\n",
      "|              4|\n",
      "|              5|\n",
      "|              0|\n",
      "|              4|\n",
      "|              0|\n",
      "|              4|\n",
      "|              0|\n",
      "|              5|\n",
      "|              1|\n",
      "|              1|\n",
      "|              5|\n",
      "|              3|\n",
      "|              0|\n",
      "+---------------+\n",
      "only showing top 20 rows\n",
      "\n"
     ]
    }
   ],
   "source": [
    "data.select(data['`ipadSc_urls.num`']).show()"
   ]
  },
  {
   "cell_type": "code",
   "execution_count": 84,
   "metadata": {},
   "outputs": [
    {
     "name": "stdout",
     "output_type": "stream",
     "text": [
      "+---------------------------------+-----------+--------+\n",
      "|                       track_name|user_rating|lang.num|\n",
      "+---------------------------------+-----------+--------+\n",
      "|             TurboScan™ Pro - ...|          5|       9|\n",
      "|               Plants vs. Zombies|          5|       5|\n",
      "|             Learn to Speak Sp...|          5|       5|\n",
      "|             Plants vs. Zombie...|          5|       5|\n",
      "|                        ▻Sudoku +|          5|       7|\n",
      "|                     Flashlight Ⓞ|          5|      22|\n",
      "|                   Infinity Blade|          5|      13|\n",
      "|             Learn English qui...|          5|       5|\n",
      "|                            Meitu|          5|       5|\n",
      "|             Bodyweight Traini...|          5|       5|\n",
      "|                Bitauto Autoprice|          5|       3|\n",
      "|             Chess Pro - with ...|          5|       3|\n",
      "|             Kurumaki Calendar...|          5|      31|\n",
      "|               Domino's Pizza USA|          5|       2|\n",
      "|             5K Runner: 0 to 5...|          5|      31|\n",
      "|             Daily Audio Bible...|          5|       5|\n",
      "|             Pic Collage - Pic...|          5|      12|\n",
      "|蘑菇街-网红直播搭配的购物特卖平台|          5|       4|\n",
      "|                         Knots 3D|          5|      19|\n",
      "|             FotoRus -Camera &...|          5|       3|\n",
      "+---------------------------------+-----------+--------+\n",
      "only showing top 20 rows\n",
      "\n"
     ]
    }
   ],
   "source": [
    "# apps with highest user rating that supports multiple languages \n",
    "\n",
    "sqlContext.sql('select track_name,\\\n",
    "               user_rating,\\\n",
    "               `lang.num`\\\n",
    "                     from applestore \\\n",
    "                     where user_rating in (select max(user_rating) from applestore)\\\n",
    "                        and `lang.num`>1').show()"
   ]
  },
  {
   "cell_type": "code",
   "execution_count": 91,
   "metadata": {},
   "outputs": [
    {
     "name": "stdout",
     "output_type": "stream",
     "text": [
      "+-------+------------------+------------------+-----------------+-------------------+\n",
      "|summary|   sup_devices.num|   ipadSc_urls.num|         lang.num|            vpp_lic|\n",
      "+-------+------------------+------------------+-----------------+-------------------+\n",
      "|  count|              7197|              7197|             7197|               7197|\n",
      "|   mean| 37.36181742392664|3.7071001806308184| 5.43490343198555| 0.9930526608309017|\n",
      "| stddev|3.7377152388584527|1.9860046449596336|7.919592722881359|0.08306643356297923|\n",
      "|    min|                11|                 0|                0|                  0|\n",
      "|    25%|              37.0|               3.0|              1.0|                1.0|\n",
      "|    50%|              37.0|               5.0|              1.0|                1.0|\n",
      "|    75%|              38.0|               5.0|              8.0|                1.0|\n",
      "|    max|                 9|                 5|                9|                  1|\n",
      "+-------+------------------+------------------+-----------------+-------------------+\n",
      "\n"
     ]
    }
   ],
   "source": [
    "data.select(data['`sup_devices.num`'],data['`ipadSc_urls.num`'],data['`lang.num`'],data['`vpp_lic`']).summary().show()"
   ]
  },
  {
   "cell_type": "code",
   "execution_count": null,
   "metadata": {},
   "outputs": [],
   "source": []
  }
 ],
 "metadata": {
  "kernelspec": {
   "display_name": "Python 3",
   "language": "python",
   "name": "python3"
  },
  "language_info": {
   "codemirror_mode": {
    "name": "ipython",
    "version": 3
   },
   "file_extension": ".py",
   "mimetype": "text/x-python",
   "name": "python",
   "nbconvert_exporter": "python",
   "pygments_lexer": "ipython3",
   "version": "3.8.3"
  }
 },
 "nbformat": 4,
 "nbformat_minor": 4
}
