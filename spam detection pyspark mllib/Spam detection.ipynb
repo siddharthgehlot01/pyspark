{
 "cells": [
  {
   "cell_type": "code",
   "execution_count": 2,
   "metadata": {},
   "outputs": [],
   "source": [
    "import pyspark.sql.functions as F"
   ]
  },
  {
   "cell_type": "code",
   "execution_count": 4,
   "metadata": {},
   "outputs": [],
   "source": [
    "spark = SparkSession.builder.appName(\"SpamDetection Notebook\").getOrCreate()"
   ]
  },
  {
   "cell_type": "code",
   "execution_count": 16,
   "metadata": {},
   "outputs": [],
   "source": [
    "data = spark.read.option(\"delimiter\",\"\\t\").csv('spam detection/SMSSpamCollection')"
   ]
  },
  {
   "cell_type": "code",
   "execution_count": 17,
   "metadata": {},
   "outputs": [
    {
     "name": "stdout",
     "output_type": "stream",
     "text": [
      "+----+--------------------+\n",
      "| _c0|                 _c1|\n",
      "+----+--------------------+\n",
      "| ham|Go until jurong p...|\n",
      "| ham|Ok lar... Joking ...|\n",
      "|spam|Free entry in 2 a...|\n",
      "| ham|U dun say so earl...|\n",
      "| ham|Nah I don't think...|\n",
      "|spam|FreeMsg Hey there...|\n",
      "| ham|Even my brother i...|\n",
      "| ham|As per your reque...|\n",
      "|spam|WINNER!! As a val...|\n",
      "|spam|Had your mobile 1...|\n",
      "| ham|I'm gonna be home...|\n",
      "|spam|SIX chances to wi...|\n",
      "|spam|URGENT! You have ...|\n",
      "| ham|I've been searchi...|\n",
      "| ham|I HAVE A DATE ON ...|\n",
      "|spam|XXXMobileMovieClu...|\n",
      "| ham|Oh k...i'm watchi...|\n",
      "| ham|Eh u remember how...|\n",
      "| ham|Fine if thats th...|\n",
      "|spam|England v Macedon...|\n",
      "+----+--------------------+\n",
      "only showing top 20 rows\n",
      "\n"
     ]
    }
   ],
   "source": [
    "data.show()"
   ]
  },
  {
   "cell_type": "code",
   "execution_count": 18,
   "metadata": {},
   "outputs": [],
   "source": [
    "data = data.toDF(\"status\",\"message\")"
   ]
  },
  {
   "cell_type": "code",
   "execution_count": 19,
   "metadata": {},
   "outputs": [
    {
     "name": "stdout",
     "output_type": "stream",
     "text": [
      "+------+--------------------+\n",
      "|status|             message|\n",
      "+------+--------------------+\n",
      "|   ham|Go until jurong p...|\n",
      "|   ham|Ok lar... Joking ...|\n",
      "|  spam|Free entry in 2 a...|\n",
      "|   ham|U dun say so earl...|\n",
      "|   ham|Nah I don't think...|\n",
      "|  spam|FreeMsg Hey there...|\n",
      "|   ham|Even my brother i...|\n",
      "|   ham|As per your reque...|\n",
      "|  spam|WINNER!! As a val...|\n",
      "|  spam|Had your mobile 1...|\n",
      "|   ham|I'm gonna be home...|\n",
      "|  spam|SIX chances to wi...|\n",
      "|  spam|URGENT! You have ...|\n",
      "|   ham|I've been searchi...|\n",
      "|   ham|I HAVE A DATE ON ...|\n",
      "|  spam|XXXMobileMovieClu...|\n",
      "|   ham|Oh k...i'm watchi...|\n",
      "|   ham|Eh u remember how...|\n",
      "|   ham|Fine if thats th...|\n",
      "|  spam|England v Macedon...|\n",
      "+------+--------------------+\n",
      "only showing top 20 rows\n",
      "\n"
     ]
    }
   ],
   "source": [
    "data.show()"
   ]
  },
  {
   "cell_type": "code",
   "execution_count": 21,
   "metadata": {},
   "outputs": [
    {
     "name": "stdout",
     "output_type": "stream",
     "text": [
      "+------+--------------------+--------------------+\n",
      "|status|             message|               words|\n",
      "+------+--------------------+--------------------+\n",
      "|   ham|Go until jurong p...|[go, until, juron...|\n",
      "|   ham|Ok lar... Joking ...|[ok, lar..., joki...|\n",
      "|  spam|Free entry in 2 a...|[free, entry, in,...|\n",
      "|   ham|U dun say so earl...|[u, dun, say, so,...|\n",
      "|   ham|Nah I don't think...|[nah, i, don't, t...|\n",
      "|  spam|FreeMsg Hey there...|[freemsg, hey, th...|\n",
      "|   ham|Even my brother i...|[even, my, brothe...|\n",
      "|   ham|As per your reque...|[as, per, your, r...|\n",
      "|  spam|WINNER!! As a val...|[winner!!, as, a,...|\n",
      "|  spam|Had your mobile 1...|[had, your, mobil...|\n",
      "|   ham|I'm gonna be home...|[i'm, gonna, be, ...|\n",
      "|  spam|SIX chances to wi...|[six, chances, to...|\n",
      "|  spam|URGENT! You have ...|[urgent!, you, ha...|\n",
      "|   ham|I've been searchi...|[i've, been, sear...|\n",
      "|   ham|I HAVE A DATE ON ...|[i, have, a, date...|\n",
      "|  spam|XXXMobileMovieClu...|[xxxmobilemoviecl...|\n",
      "|   ham|Oh k...i'm watchi...|[oh, k...i'm, wat...|\n",
      "|   ham|Eh u remember how...|[eh, u, remember,...|\n",
      "|   ham|Fine if thats th...|[fine, if, thats...|\n",
      "|  spam|England v Macedon...|[england, v, mace...|\n",
      "+------+--------------------+--------------------+\n",
      "only showing top 20 rows\n",
      "\n"
     ]
    }
   ],
   "source": [
    "from pyspark.ml.feature import Tokenizer\n",
    "token = Tokenizer().setInputCol(\"message\").setOutputCol(\"words\")\n",
    "transformed_data = token.transform(data)\n",
    "transformed_data.show()"
   ]
  },
  {
   "cell_type": "code",
   "execution_count": 24,
   "metadata": {},
   "outputs": [],
   "source": [
    "from pyspark.ml.feature import StopWordsRemover\n",
    "remover = StopWordsRemover().setInputCol(\"words\").setOutputCol(\"clean_data\")\n",
    "massaged_data = remover.transform(transformed_data)"
   ]
  },
  {
   "cell_type": "code",
   "execution_count": 25,
   "metadata": {},
   "outputs": [
    {
     "name": "stdout",
     "output_type": "stream",
     "text": [
      "+------+--------------------+--------------------+--------------------+\n",
      "|status|             message|               words|          clean_data|\n",
      "+------+--------------------+--------------------+--------------------+\n",
      "|   ham|Go until jurong p...|[go, until, juron...|[go, jurong, poin...|\n",
      "|   ham|Ok lar... Joking ...|[ok, lar..., joki...|[ok, lar..., joki...|\n",
      "|  spam|Free entry in 2 a...|[free, entry, in,...|[free, entry, 2, ...|\n",
      "|   ham|U dun say so earl...|[u, dun, say, so,...|[u, dun, say, ear...|\n",
      "|   ham|Nah I don't think...|[nah, i, don't, t...|[nah, think, goes...|\n",
      "|  spam|FreeMsg Hey there...|[freemsg, hey, th...|[freemsg, hey, da...|\n",
      "|   ham|Even my brother i...|[even, my, brothe...|[even, brother, l...|\n",
      "|   ham|As per your reque...|[as, per, your, r...|[per, request, 'm...|\n",
      "|  spam|WINNER!! As a val...|[winner!!, as, a,...|[winner!!, valued...|\n",
      "|  spam|Had your mobile 1...|[had, your, mobil...|[mobile, 11, mont...|\n",
      "|   ham|I'm gonna be home...|[i'm, gonna, be, ...|[gonna, home, soo...|\n",
      "|  spam|SIX chances to wi...|[six, chances, to...|[six, chances, wi...|\n",
      "|  spam|URGENT! You have ...|[urgent!, you, ha...|[urgent!, won, 1,...|\n",
      "|   ham|I've been searchi...|[i've, been, sear...|[searching, right...|\n",
      "|   ham|I HAVE A DATE ON ...|[i, have, a, date...|[date, sunday, wi...|\n",
      "|  spam|XXXMobileMovieClu...|[xxxmobilemoviecl...|[xxxmobilemoviecl...|\n",
      "|   ham|Oh k...i'm watchi...|[oh, k...i'm, wat...|[oh, k...i'm, wat...|\n",
      "|   ham|Eh u remember how...|[eh, u, remember,...|[eh, u, remember,...|\n",
      "|   ham|Fine if thats th...|[fine, if, thats...|[fine, thats, wa...|\n",
      "|  spam|England v Macedon...|[england, v, mace...|[england, v, mace...|\n",
      "+------+--------------------+--------------------+--------------------+\n",
      "only showing top 20 rows\n",
      "\n"
     ]
    }
   ],
   "source": [
    "massaged_data.show()"
   ]
  },
  {
   "cell_type": "code",
   "execution_count": 26,
   "metadata": {},
   "outputs": [],
   "source": [
    "from pyspark.ml.feature import CountVectorizer,CountVectorizerModel"
   ]
  },
  {
   "cell_type": "code",
   "execution_count": 30,
   "metadata": {},
   "outputs": [],
   "source": [
    "cv = CountVectorizer().setInputCol(\"clean_data\").setOutputCol(\"features\").fit(massaged_data)"
   ]
  },
  {
   "cell_type": "code",
   "execution_count": 32,
   "metadata": {},
   "outputs": [],
   "source": [
    "feature = cv.transform(massaged_data)"
   ]
  },
  {
   "cell_type": "code",
   "execution_count": 33,
   "metadata": {},
   "outputs": [
    {
     "name": "stdout",
     "output_type": "stream",
     "text": [
      "+------+--------------------+--------------------+--------------------+--------------------+\n",
      "|status|             message|               words|          clean_data|            features|\n",
      "+------+--------------------+--------------------+--------------------+--------------------+\n",
      "|   ham|Go until jurong p...|[go, until, juron...|[go, jurong, poin...|(13423,[7,11,31,6...|\n",
      "|   ham|Ok lar... Joking ...|[ok, lar..., joki...|[ok, lar..., joki...|(13423,[0,24,297,...|\n",
      "|  spam|Free entry in 2 a...|[free, entry, in,...|[free, entry, 2, ...|(13423,[2,13,19,3...|\n",
      "|   ham|U dun say so earl...|[u, dun, say, so,...|[u, dun, say, ear...|(13423,[0,70,80,1...|\n",
      "|   ham|Nah I don't think...|[nah, i, don't, t...|[nah, think, goes...|(13423,[36,134,31...|\n",
      "|  spam|FreeMsg Hey there...|[freemsg, hey, th...|[freemsg, hey, da...|(13423,[10,60,139...|\n",
      "|   ham|Even my brother i...|[even, my, brothe...|[even, brother, l...|(13423,[10,53,103...|\n",
      "|   ham|As per your reque...|[as, per, your, r...|[per, request, 'm...|(13423,[125,184,4...|\n",
      "|  spam|WINNER!! As a val...|[winner!!, as, a,...|[winner!!, valued...|(13423,[1,47,118,...|\n",
      "|  spam|Had your mobile 1...|[had, your, mobil...|[mobile, 11, mont...|(13423,[0,1,13,27...|\n",
      "|   ham|I'm gonna be home...|[i'm, gonna, be, ...|[gonna, home, soo...|(13423,[18,43,120...|\n",
      "|  spam|SIX chances to wi...|[six, chances, to...|[six, chances, wi...|(13423,[8,17,37,8...|\n",
      "|  spam|URGENT! You have ...|[urgent!, you, ha...|[urgent!, won, 1,...|(13423,[13,30,47,...|\n",
      "|   ham|I've been searchi...|[i've, been, sear...|[searching, right...|(13423,[39,96,217...|\n",
      "|   ham|I HAVE A DATE ON ...|[i, have, a, date...|[date, sunday, wi...|(13423,[552,1697,...|\n",
      "|  spam|XXXMobileMovieClu...|[xxxmobilemoviecl...|[xxxmobilemoviecl...|(13423,[30,109,11...|\n",
      "|   ham|Oh k...i'm watchi...|[oh, k...i'm, wat...|[oh, k...i'm, wat...|(13423,[82,214,47...|\n",
      "|   ham|Eh u remember how...|[eh, u, remember,...|[eh, u, remember,...|(13423,[0,2,49,13...|\n",
      "|   ham|Fine if thats th...|[fine, if, thats...|[fine, thats, wa...|(13423,[0,74,105,...|\n",
      "|  spam|England v Macedon...|[england, v, mace...|[england, v, mace...|(13423,[4,30,33,5...|\n",
      "+------+--------------------+--------------------+--------------------+--------------------+\n",
      "only showing top 20 rows\n",
      "\n"
     ]
    }
   ],
   "source": [
    "feature.show()"
   ]
  },
  {
   "cell_type": "code",
   "execution_count": 36,
   "metadata": {},
   "outputs": [
    {
     "name": "stdout",
     "output_type": "stream",
     "text": [
      "+------+--------------------+--------------------+--------------------+--------------------+-----+\n",
      "|status|             message|               words|          clean_data|            features|label|\n",
      "+------+--------------------+--------------------+--------------------+--------------------+-----+\n",
      "|   ham|Go until jurong p...|[go, until, juron...|[go, jurong, poin...|(13423,[7,11,31,6...|  0.0|\n",
      "|   ham|Ok lar... Joking ...|[ok, lar..., joki...|[ok, lar..., joki...|(13423,[0,24,297,...|  0.0|\n",
      "|  spam|Free entry in 2 a...|[free, entry, in,...|[free, entry, 2, ...|(13423,[2,13,19,3...|  1.0|\n",
      "+------+--------------------+--------------------+--------------------+--------------------+-----+\n",
      "only showing top 3 rows\n",
      "\n"
     ]
    }
   ],
   "source": [
    "from pyspark.ml.feature import OneHotEncoder, StringIndexer\n",
    "indexer = StringIndexer().setInputCol(\"status\").setOutputCol(\"label\").fit(feature)\n",
    "final_data = indexer.transform(feature)\n",
    "final_data.show(3)"
   ]
  },
  {
   "cell_type": "code",
   "execution_count": 37,
   "metadata": {},
   "outputs": [],
   "source": [
    "#from pyspark.ml.tuning import ParamGridBuilder, TrainValidationSplit\n",
    "train,test = final_data.randomSplit([0.7, 0.3], seed = 123)"
   ]
  },
  {
   "cell_type": "code",
   "execution_count": 38,
   "metadata": {},
   "outputs": [
    {
     "name": "stdout",
     "output_type": "stream",
     "text": [
      "+------+--------------------+--------------------+--------------------+--------------------+-----+\n",
      "|status|             message|               words|          clean_data|            features|label|\n",
      "+------+--------------------+--------------------+--------------------+--------------------+-----+\n",
      "|   ham| &lt;#&gt;  in mc...|[, &lt;#&gt;, , i...|[, &lt;#&gt;, , m...|(13423,[3,6,5140,...|  0.0|\n",
      "|   ham| &lt;#&gt;  mins ...|[, &lt;#&gt;, , m...|[, &lt;#&gt;, , m...|(13423,[3,6,41,20...|  0.0|\n",
      "|   ham| and  picking the...|[, and, , picking...|[, , picking, var...|(13423,[3,719,201...|  0.0|\n",
      "|   ham| came to look at ...|[, came, to, look...|[, came, look, fl...|(13423,[3,11,165,...|  0.0|\n",
      "|   ham| gonna let me kno...|[, gonna, let, me...|[, gonna, let, kn...|(13423,[3,12,79,8...|  0.0|\n",
      "|   ham| says that he's q...|[, says, that, he...|[, says, quitting...|(13423,[0,3,14,18...|  0.0|\n",
      "|   ham| what number do u...|[, what, number, ...|[, number, u, liv...|(13423,[0,3,86,19...|  0.0|\n",
      "|   ham|\"Happy valentines...|[\"happy, valentin...|[\"happy, valentin...|(13423,[12,168,18...|  0.0|\n",
      "|   ham|\"Its Ur luck to L...|[\"its, ur, luck, ...|[\"its, ur, luck, ...|(13423,[4,21,29,1...|  0.0|\n",
      "|   ham|\"SYMPTOMS\" when U...|[\"symptoms\", when...|[\"symptoms\", u, l...|(13423,[0,5,10,32...|  0.0|\n",
      "|   ham|\"Speak only when ...|[\"speak, only, wh...|[\"speak, feel, wo...|(13423,[115,116,2...|  0.0|\n",
      "|   ham|\"The world suffer...|[\"the, world, suf...|[\"the, world, suf...|(13423,[15,116,30...|  0.0|\n",
      "|   ham|\"Wen u miss someo...|[\"wen, u, miss, s...|[\"wen, u, miss, s...|(13423,[0,78,220,...|  0.0|\n",
      "|   ham|&lt;#&gt;  great ...|[&lt;#&gt;, , gre...|[&lt;#&gt;, , gre...|(13423,[3,6,32,61...|  0.0|\n",
      "|   ham|&lt;#&gt;  is fas...|[&lt;#&gt;, , is,...|[&lt;#&gt;, , fas...|(13423,[0,3,6,8,1...|  0.0|\n",
      "|   ham|&lt;#&gt;  w jett...|[&lt;#&gt;, , w, ...|[&lt;#&gt;, , w, ...|(13423,[3,6,291,6...|  0.0|\n",
      "|   ham|&lt;#&gt; %of ppl...|[&lt;#&gt;, %of, ...|[&lt;#&gt;, %of, ...|(13423,[0,2,3,5,6...|  0.0|\n",
      "|   ham|&lt;#&gt; ISH MIN...|[&lt;#&gt;, ish, ...|[&lt;#&gt;, ish, ...|(13423,[6,242,278...|  0.0|\n",
      "|   ham|'An Amazing Quote...|['an, amazing, qu...|['an, amazing, qu...|(13423,[59,151,21...|  0.0|\n",
      "|   ham|'Wnevr i wana fal...|['wnevr, i, wana,...|['wnevr, wana, fa...|(13423,[9,116,259...|  0.0|\n",
      "+------+--------------------+--------------------+--------------------+--------------------+-----+\n",
      "only showing top 20 rows\n",
      "\n"
     ]
    }
   ],
   "source": [
    "train.show()"
   ]
  },
  {
   "cell_type": "code",
   "execution_count": 44,
   "metadata": {},
   "outputs": [],
   "source": [
    "from pyspark.ml.classification import LogisticRegression\n",
    "lr = LogisticRegression().setMaxIter(10).setRegParam(0.3).setElasticNetParam(0.8)\n",
    "model = lr.fit(train)"
   ]
  },
  {
   "cell_type": "code",
   "execution_count": 45,
   "metadata": {},
   "outputs": [],
   "source": [
    "predict= model.transform(test)"
   ]
  },
  {
   "cell_type": "code",
   "execution_count": 47,
   "metadata": {},
   "outputs": [
    {
     "name": "stdout",
     "output_type": "stream",
     "text": [
      "+------+--------------------+--------------------+--------------------+--------------------+-----+--------------------+--------------------+----------+\n",
      "|status|             message|               words|          clean_data|            features|label|       rawPrediction|         probability|prediction|\n",
      "+------+--------------------+--------------------+--------------------+--------------------+-----+--------------------+--------------------+----------+\n",
      "|   ham| &lt;DECIMAL&gt; ...|[, &lt;decimal&gt...|[, &lt;decimal&gt...|(13423,[3,84,114,...|  0.0|[1.84255044036003...|[0.86325006438320...|       0.0|\n",
      "|   ham| said kiss, kiss,...|[, said, kiss,, k...|[, said, kiss,, k...|(13423,[3,94,212,...|  0.0|[1.84255044036003...|[0.86325006438320...|       0.0|\n",
      "|   ham|\"Gimme a few\" was...|[\"gimme, a, few\",...|[\"gimme, few\", , ...|(13423,[3,6,278,1...|  0.0|[1.84255044036003...|[0.86325006438320...|       0.0|\n",
      "|   ham|\"Life is nothing ...|[\"life, is, nothi...|[\"life, nothing, ...|(13423,[5,78,116,...|  0.0|[1.84255044036003...|[0.86325006438320...|       0.0|\n",
      "|   ham|\"Response\" is one...|[\"response\", is, ...|[\"response\", one,...|(13423,[2,8,29,50...|  0.0|[1.84255044036003...|[0.86325006438320...|       0.0|\n",
      "|   ham|&lt;#&gt;  am I t...|[&lt;#&gt;, , am,...|[&lt;#&gt;, , thi...|(13423,[3,6,70,33...|  0.0|[1.84255044036003...|[0.86325006438320...|       0.0|\n",
      "|   ham|&lt;#&gt; , that'...|[&lt;#&gt;, ,, th...|[&lt;#&gt;, ,, al...|(13423,[6,215,245...|  0.0|[1.84255044036003...|[0.86325006438320...|       0.0|\n",
      "|   ham|(No promises on w...|[(no, promises, o...|[(no, promises, t...|(13423,[103,333,2...|  0.0|[1.84255044036003...|[0.86325006438320...|       0.0|\n",
      "|   ham|(That said can yo...|[(that, said, can...|[(that, said, tex...|(13423,[19,29,94,...|  0.0|[1.84255044036003...|[0.86325006438320...|       0.0|\n",
      "|   ham|      * Am on my way|[*, am, on, my, way]|            [*, way]|(13423,[74,195],[...|  0.0|[1.84255044036003...|[0.86325006438320...|       0.0|\n",
      "|   ham|* Thought I didn'...|[*, thought, i, d...|[*, thought, see,...|(13423,[32,66,168...|  0.0|[1.84255044036003...|[0.86325006438320...|       0.0|\n",
      "|   ham|* Was a nice day ...|[*, was, a, nice,...|[*, nice, day, an...|(13423,[43,45,108...|  0.0|[1.84255044036003...|[0.86325006438320...|       0.0|\n",
      "|   ham|* Will be septemb...|[*, will, be, sep...|[*, september, th...|(13423,[195,2396,...|  0.0|[1.84255044036003...|[0.86325006438320...|       0.0|\n",
      "|   ham|* You gonna ring ...|[*, you, gonna, r...|[*, gonna, ring, ...|(13423,[120,195,4...|  0.0|[1.84255044036003...|[0.86325006438320...|       0.0|\n",
      "|   ham|... Are you in th...|[..., are, you, i...|         [..., pub?]|(13423,[22,3697],...|  0.0|[1.84255044036003...|[0.86325006438320...|       0.0|\n",
      "|   ham|....photoshop mak...|[....photoshop, m...|[....photoshop, m...|(13423,[357,864,2...|  0.0|[1.84255044036003...|[0.86325006438320...|       0.0|\n",
      "|   ham|1) Go to write ms...|[1), go, to, writ...|[1), go, write, m...|(13423,[3,4,6,7,9...|  0.0|[1.84255044036003...|[0.86325006438320...|       0.0|\n",
      "|   ham|   10 min later k...|[10, min, later, ...|[10, min, later, ...|(13423,[55,352,62...|  0.0|[1.84255044036003...|[0.86325006438320...|       0.0|\n",
      "|   ham|2 and half years ...|[2, and, half, ye...|[2, half, years, ...|(13423,[2,189,382...|  0.0|[1.84255044036003...|[0.86325006438320...|       0.0|\n",
      "|   ham|2 celebrate my b...|[2, celebrate, my...|[2, celebrate, b...|(13423,[2,186,218...|  0.0|[1.84255044036003...|[0.86325006438320...|       0.0|\n",
      "+------+--------------------+--------------------+--------------------+--------------------+-----+--------------------+--------------------+----------+\n",
      "only showing top 20 rows\n",
      "\n"
     ]
    }
   ],
   "source": [
    "predict.show()"
   ]
  },
  {
   "cell_type": "code",
   "execution_count": 49,
   "metadata": {},
   "outputs": [
    {
     "name": "stdout",
     "output_type": "stream",
     "text": [
      "+----------+-----+\n",
      "|prediction|label|\n",
      "+----------+-----+\n",
      "|       0.0|  0.0|\n",
      "|       0.0|  0.0|\n",
      "+----------+-----+\n",
      "only showing top 2 rows\n",
      "\n"
     ]
    }
   ],
   "source": [
    "predict.select(\"prediction\",\"label\").show(2)"
   ]
  },
  {
   "cell_type": "code",
   "execution_count": 57,
   "metadata": {},
   "outputs": [],
   "source": [
    "from pyspark.ml.evaluation import BinaryClassificationEvaluator\n",
    "evaluator = BinaryClassificationEvaluator().setLabelCol('label').setRawPredictionCol('prediction').setMetricName(\"areaUnderROC\")\n",
    "accuracy = evaluator.evaluate(predict)"
   ]
  },
  {
   "cell_type": "code",
   "execution_count": 58,
   "metadata": {},
   "outputs": [
    {
     "data": {
      "text/plain": [
       "0.5"
      ]
     },
     "execution_count": 58,
     "metadata": {},
     "output_type": "execute_result"
    }
   ],
   "source": [
    "accuracy"
   ]
  },
  {
   "cell_type": "code",
   "execution_count": null,
   "metadata": {},
   "outputs": [],
   "source": []
  }
 ],
 "metadata": {
  "kernelspec": {
   "display_name": "Python 3",
   "language": "python",
   "name": "python3"
  },
  "language_info": {
   "codemirror_mode": {
    "name": "ipython",
    "version": 3
   },
   "file_extension": ".py",
   "mimetype": "text/x-python",
   "name": "python",
   "nbconvert_exporter": "python",
   "pygments_lexer": "ipython3",
   "version": "3.8.3"
  }
 },
 "nbformat": 4,
 "nbformat_minor": 4
}
