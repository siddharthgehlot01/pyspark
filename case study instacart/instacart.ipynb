{
 "cells": [
  {
   "cell_type": "code",
   "execution_count": 1,
   "metadata": {},
   "outputs": [],
   "source": [
    "from pyspark import SparkContext\n",
    "from pyspark.sql import *"
   ]
  },
  {
   "cell_type": "code",
   "execution_count": 3,
   "metadata": {},
   "outputs": [],
   "source": [
    "sc = SparkContext()\n",
    "sqlContext = SQLContext(sc)"
   ]
  },
  {
   "cell_type": "code",
   "execution_count": 4,
   "metadata": {},
   "outputs": [],
   "source": [
    "aisles = sqlContext.read.format('csv').option('header','true').load('aisles.csv')"
   ]
  },
  {
   "cell_type": "code",
   "execution_count": 5,
   "metadata": {},
   "outputs": [
    {
     "name": "stdout",
     "output_type": "stream",
     "text": [
      "+--------+--------------------+\n",
      "|aisle_id|               aisle|\n",
      "+--------+--------------------+\n",
      "|       1|prepared soups sa...|\n",
      "|       2|   specialty cheeses|\n",
      "|       3| energy granola bars|\n",
      "|       4|       instant foods|\n",
      "|       5|marinades meat pr...|\n",
      "|       6|               other|\n",
      "|       7|       packaged meat|\n",
      "|       8|     bakery desserts|\n",
      "|       9|         pasta sauce|\n",
      "|      10|    kitchen supplies|\n",
      "|      11|    cold flu allergy|\n",
      "|      12|         fresh pasta|\n",
      "|      13|      prepared meals|\n",
      "|      14|tofu meat alterna...|\n",
      "|      15|    packaged seafood|\n",
      "|      16|         fresh herbs|\n",
      "|      17|  baking ingredients|\n",
      "|      18|bulk dried fruits...|\n",
      "|      19|       oils vinegars|\n",
      "|      20|        oral hygiene|\n",
      "+--------+--------------------+\n",
      "only showing top 20 rows\n",
      "\n"
     ]
    }
   ],
   "source": [
    "aisles.show()"
   ]
  },
  {
   "cell_type": "code",
   "execution_count": 6,
   "metadata": {},
   "outputs": [
    {
     "name": "stdout",
     "output_type": "stream",
     "text": [
      "+-------------+---------------+\n",
      "|department_id|     department|\n",
      "+-------------+---------------+\n",
      "|            1|         frozen|\n",
      "|            2|          other|\n",
      "|            3|         bakery|\n",
      "|            4|        produce|\n",
      "|            5|        alcohol|\n",
      "|            6|  international|\n",
      "|            7|      beverages|\n",
      "|            8|           pets|\n",
      "|            9|dry goods pasta|\n",
      "|           10|           bulk|\n",
      "|           11|  personal care|\n",
      "|           12|   meat seafood|\n",
      "|           13|         pantry|\n",
      "|           14|      breakfast|\n",
      "|           15|   canned goods|\n",
      "|           16|     dairy eggs|\n",
      "|           17|      household|\n",
      "|           18|         babies|\n",
      "|           19|         snacks|\n",
      "|           20|           deli|\n",
      "+-------------+---------------+\n",
      "only showing top 20 rows\n",
      "\n"
     ]
    }
   ],
   "source": [
    "department = sqlContext.read.format('csv').option('header','true').load('departments.csv')\n",
    "department.show()"
   ]
  },
  {
   "cell_type": "code",
   "execution_count": 10,
   "metadata": {},
   "outputs": [
    {
     "name": "stdout",
     "output_type": "stream",
     "text": [
      "+--------+----------+-----------------+---------+\n",
      "|order_id|product_id|add_to_cart_order|reordered|\n",
      "+--------+----------+-----------------+---------+\n",
      "|       2|     33120|                1|        1|\n",
      "|       2|     28985|                2|        1|\n",
      "|       2|      9327|                3|        0|\n",
      "|       2|     45918|                4|        1|\n",
      "|       2|     30035|                5|        0|\n",
      "|       2|     17794|                6|        1|\n",
      "|       2|     40141|                7|        1|\n",
      "|       2|      1819|                8|        1|\n",
      "|       2|     43668|                9|        0|\n",
      "|       3|     33754|                1|        1|\n",
      "|       3|     24838|                2|        1|\n",
      "|       3|     17704|                3|        1|\n",
      "|       3|     21903|                4|        1|\n",
      "|       3|     17668|                5|        1|\n",
      "|       3|     46667|                6|        1|\n",
      "|       3|     17461|                7|        1|\n",
      "|       3|     32665|                8|        1|\n",
      "|       4|     46842|                1|        0|\n",
      "|       4|     26434|                2|        1|\n",
      "|       4|     39758|                3|        1|\n",
      "+--------+----------+-----------------+---------+\n",
      "only showing top 20 rows\n",
      "\n"
     ]
    }
   ],
   "source": [
    "order_product_prior = sqlContext.read.format('csv').option('header','true').load('order_products__prior.csv')\n",
    "order_product_prior.show()"
   ]
  },
  {
   "cell_type": "code",
   "execution_count": 12,
   "metadata": {},
   "outputs": [
    {
     "name": "stdout",
     "output_type": "stream",
     "text": [
      "+--------+----------+-----------------+---------+\n",
      "|order_id|product_id|add_to_cart_order|reordered|\n",
      "+--------+----------+-----------------+---------+\n",
      "|       1|     49302|                1|        1|\n",
      "|       1|     11109|                2|        1|\n",
      "|       1|     10246|                3|        0|\n",
      "|       1|     49683|                4|        0|\n",
      "|       1|     43633|                5|        1|\n",
      "|       1|     13176|                6|        0|\n",
      "|       1|     47209|                7|        0|\n",
      "|       1|     22035|                8|        1|\n",
      "|      36|     39612|                1|        0|\n",
      "|      36|     19660|                2|        1|\n",
      "|      36|     49235|                3|        0|\n",
      "|      36|     43086|                4|        1|\n",
      "|      36|     46620|                5|        1|\n",
      "|      36|     34497|                6|        1|\n",
      "|      36|     48679|                7|        1|\n",
      "|      36|     46979|                8|        1|\n",
      "|      38|     11913|                1|        0|\n",
      "|      38|     18159|                2|        0|\n",
      "|      38|      4461|                3|        0|\n",
      "|      38|     21616|                4|        1|\n",
      "+--------+----------+-----------------+---------+\n",
      "only showing top 20 rows\n",
      "\n"
     ]
    }
   ],
   "source": [
    "order_products_train = sqlContext.read.format('csv').option('header','true').load('order_products__train.csv')\n",
    "order_products_train.show()"
   ]
  },
  {
   "cell_type": "code",
   "execution_count": 13,
   "metadata": {},
   "outputs": [
    {
     "name": "stdout",
     "output_type": "stream",
     "text": [
      "+--------+-------+--------+------------+---------+-----------------+----------------------+\n",
      "|order_id|user_id|eval_set|order_number|order_dow|order_hour_of_day|days_since_prior_order|\n",
      "+--------+-------+--------+------------+---------+-----------------+----------------------+\n",
      "| 2539329|      1|   prior|           1|        2|               08|                  null|\n",
      "| 2398795|      1|   prior|           2|        3|               07|                  15.0|\n",
      "|  473747|      1|   prior|           3|        3|               12|                  21.0|\n",
      "| 2254736|      1|   prior|           4|        4|               07|                  29.0|\n",
      "|  431534|      1|   prior|           5|        4|               15|                  28.0|\n",
      "| 3367565|      1|   prior|           6|        2|               07|                  19.0|\n",
      "|  550135|      1|   prior|           7|        1|               09|                  20.0|\n",
      "| 3108588|      1|   prior|           8|        1|               14|                  14.0|\n",
      "| 2295261|      1|   prior|           9|        1|               16|                   0.0|\n",
      "| 2550362|      1|   prior|          10|        4|               08|                  30.0|\n",
      "| 1187899|      1|   train|          11|        4|               08|                  14.0|\n",
      "| 2168274|      2|   prior|           1|        2|               11|                  null|\n",
      "| 1501582|      2|   prior|           2|        5|               10|                  10.0|\n",
      "| 1901567|      2|   prior|           3|        1|               10|                   3.0|\n",
      "|  738281|      2|   prior|           4|        2|               10|                   8.0|\n",
      "| 1673511|      2|   prior|           5|        3|               11|                   8.0|\n",
      "| 1199898|      2|   prior|           6|        2|               09|                  13.0|\n",
      "| 3194192|      2|   prior|           7|        2|               12|                  14.0|\n",
      "|  788338|      2|   prior|           8|        1|               15|                  27.0|\n",
      "| 1718559|      2|   prior|           9|        2|               09|                   8.0|\n",
      "+--------+-------+--------+------------+---------+-----------------+----------------------+\n",
      "only showing top 20 rows\n",
      "\n"
     ]
    }
   ],
   "source": [
    "orders = sqlContext.read.format('csv').option('header','true').load('orders.csv')\n",
    "orders.show()"
   ]
  },
  {
   "cell_type": "code",
   "execution_count": 14,
   "metadata": {},
   "outputs": [
    {
     "name": "stdout",
     "output_type": "stream",
     "text": [
      "+----------+--------------------+--------+-------------+\n",
      "|product_id|        product_name|aisle_id|department_id|\n",
      "+----------+--------------------+--------+-------------+\n",
      "|         1|Chocolate Sandwic...|      61|           19|\n",
      "|         2|    All-Seasons Salt|     104|           13|\n",
      "|         3|Robust Golden Uns...|      94|            7|\n",
      "|         4|Smart Ones Classi...|      38|            1|\n",
      "|         5|Green Chile Anyti...|       5|           13|\n",
      "|         6|        Dry Nose Oil|      11|           11|\n",
      "|         7|Pure Coconut Wate...|      98|            7|\n",
      "|         8|Cut Russet Potato...|     116|            1|\n",
      "|         9|Light Strawberry ...|     120|           16|\n",
      "|        10|Sparkling Orange ...|     115|            7|\n",
      "|        11|   Peach Mango Juice|      31|            7|\n",
      "|        12|Chocolate Fudge L...|     119|            1|\n",
      "|        13|   Saline Nasal Mist|      11|           11|\n",
      "|        14|Fresh Scent Dishw...|      74|           17|\n",
      "|        15|Overnight Diapers...|      56|           18|\n",
      "|        16|Mint Chocolate Fl...|     103|           19|\n",
      "|        17|   Rendered Duck Fat|      35|           12|\n",
      "|        18|Pizza for One Sup...|      79|            1|\n",
      "|        19|Gluten Free Quino...|      63|            9|\n",
      "|        20|Pomegranate Cranb...|      98|            7|\n",
      "+----------+--------------------+--------+-------------+\n",
      "only showing top 20 rows\n",
      "\n"
     ]
    }
   ],
   "source": [
    "products = sqlContext.read.format('csv').option('header','true').load('products.csv')\n",
    "products.show()"
   ]
  },
  {
   "cell_type": "code",
   "execution_count": 18,
   "metadata": {},
   "outputs": [
    {
     "name": "stdout",
     "output_type": "stream",
     "text": [
      "+--------+-----------+\n",
      "|order_id|   products|\n",
      "+--------+-----------+\n",
      "|      17|39276 29259|\n",
      "|      34|39276 29259|\n",
      "|     137|39276 29259|\n",
      "|     182|39276 29259|\n",
      "|     257|39276 29259|\n",
      "|     313|39276 29259|\n",
      "|     353|39276 29259|\n",
      "|     386|39276 29259|\n",
      "|     414|39276 29259|\n",
      "|     418|39276 29259|\n",
      "|     437|39276 29259|\n",
      "|     452|39276 29259|\n",
      "|     474|39276 29259|\n",
      "|     492|39276 29259|\n",
      "|     497|39276 29259|\n",
      "|     513|39276 29259|\n",
      "|     517|39276 29259|\n",
      "|     604|39276 29259|\n",
      "|     680|39276 29259|\n",
      "|     758|39276 29259|\n",
      "+--------+-----------+\n",
      "only showing top 20 rows\n",
      "\n"
     ]
    }
   ],
   "source": [
    "sample_submission = sqlContext.read.format('csv').option('header','true').load('sample_submission.csv')\n",
    "sample_submission.show()"
   ]
  },
  {
   "cell_type": "code",
   "execution_count": 40,
   "metadata": {},
   "outputs": [],
   "source": [
    "#merge ailse and products\n",
    "merge_df = aisles.join(products,aisles.aisle_id==products.aisle_id)\n",
    "merge_df = merge_df.join(order_product_prior,merge_df.product_id == order_product_prior.product_id).drop(order_product_prior.product_id)\n",
    "merge_df = merge_df.join(order_products_train,merge_df.product_id == order_products_train.product_id).drop(order_products_train.order_id)\n",
    "merge_df =merge_df.join(sample_submission,merge_df.order_id==sample_submission.order_id)\n",
    "merge_df = merge_df.join(department, department.department_id ==merge_df.department_id)\n"
   ]
  },
  {
   "cell_type": "code",
   "execution_count": null,
   "metadata": {},
   "outputs": [],
   "source": [
    "merge_df.show()"
   ]
  },
  {
   "cell_type": "code",
   "execution_count": null,
   "metadata": {},
   "outputs": [],
   "source": [
    "filtered=merge_df.filter(\"is not null and\".join(merge_df.columns)+\"is not null\")\n",
    "\n",
    "filtered.count()\n"
   ]
  },
  {
   "cell_type": "code",
   "execution_count": null,
   "metadata": {},
   "outputs": [],
   "source": [
    "filtered=products.filter(\" is not null and \".join(products.columns)+\" is not null \").take(10)\n",
    "#product_id is not null and product_name is not null and aisle_id is not null and department_id is not null"
   ]
  },
  {
   "cell_type": "code",
   "execution_count": null,
   "metadata": {},
   "outputs": [],
   "source": [
    "filtered"
   ]
  },
  {
   "cell_type": "code",
   "execution_count": null,
   "metadata": {},
   "outputs": [],
   "source": [
    "from pyspark.sql.functions import col"
   ]
  },
  {
   "cell_type": "code",
   "execution_count": null,
   "metadata": {},
   "outputs": [],
   "source": [
    "#most ordered products\n",
    "merge_df.groupby('product_name').count().sort(col(\"count\").desc()).show(10)"
   ]
  }
 ],
 "metadata": {
  "kernelspec": {
   "display_name": "Python 3",
   "language": "python",
   "name": "python3"
  },
  "language_info": {
   "codemirror_mode": {
    "name": "ipython",
    "version": 3
   },
   "file_extension": ".py",
   "mimetype": "text/x-python",
   "name": "python",
   "nbconvert_exporter": "python",
   "pygments_lexer": "ipython3",
   "version": "3.8.3"
  }
 },
 "nbformat": 4,
 "nbformat_minor": 4
}
